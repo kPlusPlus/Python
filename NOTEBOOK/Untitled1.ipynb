{
 "cells": [
  {
   "cell_type": "code",
   "execution_count": 1,
   "id": "be9997b9-dee1-4464-b1d3-834250122cd9",
   "metadata": {},
   "outputs": [
    {
     "name": "stdout",
     "output_type": "stream",
     "text": [
      "mirko\n",
      "slavko\n"
     ]
    }
   ],
   "source": [
    "print(\"mirko\")\n",
    "print(\"slavko\")"
   ]
  },
  {
   "cell_type": "code",
   "execution_count": 2,
   "id": "14d23dec-f00a-4197-bf4a-1de28d94f357",
   "metadata": {},
   "outputs": [
    {
     "name": "stdout",
     "output_type": "stream",
     "text": [
      "Pero\n",
      "Marko\n"
     ]
    }
   ],
   "source": [
    "ime_1 = \"Pero\"\n",
    "ime_2 = \"Marko\"\n",
    "print(ime_1)\n",
    "print(ime_2)"
   ]
  },
  {
   "cell_type": "code",
   "execution_count": null,
   "id": "3d74115a-547b-423e-b8a4-1322a926f4b1",
   "metadata": {},
   "outputs": [],
   "source": []
  }
 ],
 "metadata": {
  "kernelspec": {
   "display_name": "Python 3 (ipykernel)",
   "language": "python",
   "name": "python3"
  },
  "language_info": {
   "codemirror_mode": {
    "name": "ipython",
    "version": 3
   },
   "file_extension": ".py",
   "mimetype": "text/x-python",
   "name": "python",
   "nbconvert_exporter": "python",
   "pygments_lexer": "ipython3",
   "version": "3.10.4"
  },
  "widgets": {
   "application/vnd.jupyter.widget-state+json": {
    "state": {},
    "version_major": 2,
    "version_minor": 0
   }
  }
 },
 "nbformat": 4,
 "nbformat_minor": 5
}
