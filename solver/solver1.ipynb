{
  "cells": [
    {
      "attachments": {},
      "cell_type": "markdown",
      "metadata": {
        "id": "9qrey0EqV0a2"
      },
      "source": [
        "https://www.youtube.com/watch?v=5wJwlVoQ_sg&list=WL&index=838&t=257s&pp=gAQBiAQB\n"
      ]
    },
    {
      "cell_type": "code",
      "execution_count": null,
      "metadata": {
        "id": "3u7xVAxrtXc8"
      },
      "outputs": [],
      "source": [
        "# https://www.youtube.com/watch?v=5wJwlVoQ_sg&list=WL&index=838&t=257s&pp=gAQBiAQB\n",
        "#import itertools\n",
        "import numpy as np\n",
        "from datetime import datetime\n",
        "\n",
        "tstart = datetime.now()\n",
        "counter=0\n",
        "start = np.float64(2.321927999999987)\n",
        "enddd = np.float64(2.3219280949999948)\n",
        "step  = 0.0000000000001\n",
        "howmany = np.ceil((enddd - start)/step)\n",
        "print(\"how many items\",howmany)\n",
        "\n",
        "#for x in range(1,3,0.00001):\n",
        "for x in np.arange(start, enddd,step):\n",
        "    rez = np.float_power(8,x) + np.float_power(2,x)\n",
        "    counter += 1\n",
        "        \n",
        "    print(f\"{x:.64f}\" , rez)\n",
        "    print(\" \")\n",
        "    if rez > 130:\n",
        "        print(\"********************************\")\n",
        "        #print(\"counter\",counter,x,rez)\n",
        "        print(\"counter\",counter, f\"{x:.64f}\",rez)\n",
        "        del counter\n",
        "        del rez\n",
        "        del x\n",
        "        break\n",
        "\n",
        "tend = datetime.now()\n",
        "ttime = tend - tstart\n",
        "print(ttime)\n",
        "\n",
        "# 2.3219280948874"
      ]
    }
  ],
  "metadata": {
    "accelerator": "TPU",
    "colab": {
      "private_outputs": true,
      "provenance": []
    },
    "kernelspec": {
      "display_name": "Python 3",
      "name": "python3"
    },
    "language_info": {
      "codemirror_mode": {
        "name": "ipython",
        "version": 3
      },
      "file_extension": ".py",
      "mimetype": "text/x-python",
      "name": "python",
      "nbconvert_exporter": "python",
      "pygments_lexer": "ipython3",
      "version": "3.11.2"
    }
  },
  "nbformat": 4,
  "nbformat_minor": 0
}
